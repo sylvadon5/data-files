{
  "nbformat": 4,
  "nbformat_minor": 0,
  "metadata": {
    "colab": {
      "name": "Intro_Python",
      "provenance": [],
      "collapsed_sections": [],
      "authorship_tag": "ABX9TyOZZMGpJxfRiSk8WxBqiBnl",
      "include_colab_link": true
    },
    "kernelspec": {
      "name": "python3",
      "display_name": "Python 3"
    },
    "language_info": {
      "name": "python"
    }
  },
  "cells": [
    {
      "cell_type": "markdown",
      "metadata": {
        "id": "view-in-github",
        "colab_type": "text"
      },
      "source": [
        "<a href=\"https://colab.research.google.com/github/sylvadon5/data-files/blob/main/Intro_Python.ipynb\" target=\"_parent\"><img src=\"https://colab.research.google.com/assets/colab-badge.svg\" alt=\"Open In Colab\"/></a>"
      ]
    },
    {
      "cell_type": "markdown",
      "source": [
        "# Introduction to Google Colaboratory and Python\n",
        "## 4/8/2022\n",
        "\n",
        "## What is Colaboratory or Colab for short?\n",
        "Is a product from Google Research. It allows anyone to write and execute python code through the browser, and is especially well suited to machine learning, data analysis and education.\n",
        "\n",
        "## How to run a code in Google Colab?\n",
        "It requires only two steps.\n",
        "1. Sign into Google colab.\n",
        "    - To Sign in to google colab, you need to go to Google Colab url:\n",
        "https://colab.research.google.com\n",
        "2. Create a new notebook.\n",
        "Once your are done, you can start writing your code.\n",
        "Sign in to google colab.\n",
        "\n",
        "## Short Video on Google Colaboratory (Colab)\n",
        "- Introduction to Google Colab: https://www.youtube.com/watch?v=g0xu9DA4gDw\n",
        "- Get started with Google Colab: https://www.youtube.com/watch?v=inN8seMm7UI\n",
        "- Google Colab Tutorial for Beginners: https://www.youtube.com/watch?v=RLYoEyIHL6A\n",
        "\n",
        "## Brief Introduction to Python\n",
        "- Python is a computer programming language often used to build websites and software, automate tasks, and conduct data analysis.\n",
        "- Python has become a staple in data science, allowing data analysts and other professionals to use the language to conduct complex statistical calculations, create data visualizations, build machine learning algorithms, manipulate and analyze data, and complete other data-related tasks.\n",
        "- Link to some tutorials on python: https://data-flair.training/blogs/python-tutorial/\n",
        "\n",
        "# Introduction to Probability and Statistics\n",
        "## Definition of Statistics\n",
        "- Concerns data collection etc.\n",
        "\n",
        "## Braches of Statistics\n",
        "\n",
        "![](https://i.ytimg.com/vi/NCRy80w-lq8/maxresdefault.jpg)\n"
      ],
      "metadata": {
        "id": "DMFP1p476fjM"
      }
    },
    {
      "cell_type": "markdown",
      "source": [
        ""
      ],
      "metadata": {
        "id": "3fD9TDoz0us9"
      }
    }
  ]
}